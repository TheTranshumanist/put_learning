{
 "cells": [
  {
   "cell_type": "markdown",
   "metadata": {},
   "source": [
    "# Ćwiczenie 308\n",
    "\n",
    "### Wyznaczanie promienia krzywizny soczewki za pomocą pierścieni Newtona\n",
    "\n",
    "Celem ćwiczenia jest wyznaczanie promieni pierścieni Newtona, a za ich pomocą obliczenie promieni krzywizny soczewek. By wykonać ćwiczenie najpierw należy określić położenie jasnych pierścieni względem ich środka. Następnie należy obliczyć ich promienie $m$ i sporządzić wykres $r^{2} = f(m - \\frac{1}{2})$. Z wykorzystaniem regresji liniowej należy obliczyć współczynnik nachylenia, a z jego wykorzystaniem promień krzywizny soczewki."
   ]
  },
  {
   "cell_type": "code",
   "execution_count": 1,
   "metadata": {},
   "outputs": [],
   "source": [
    "import numpy as np\n",
    "import pandas as pd\n",
    "import seaborn as sns\n",
    "import matplotlib.pyplot as plt\n",
    "from scipy import stats\n",
    "\n",
    "%matplotlib inline"
   ]
  },
  {
   "cell_type": "code",
   "execution_count": 2,
   "metadata": {},
   "outputs": [],
   "source": [
    "sns.set_theme(style=\"whitegrid\")"
   ]
  },
  {
   "cell_type": "markdown",
   "metadata": {},
   "source": [
    "### Dane zmierzone\n",
    "\n",
    "$$\n",
    "    \\Delta d = 0.01{mm} \\\\\n",
    "    \\lambda = 589.6{nm}\n",
    "$$"
   ]
  },
  {
   "cell_type": "code",
   "execution_count": 3,
   "metadata": {},
   "outputs": [],
   "source": [
    "initial_data = [[4.57, 4.31, 4.07, 3.83, 3.76, 3.61, 3.49, 3.38, 3.28],\n",
    "                [6.13, 6.43, 6.62, 6.81, 6.94, 7.14, 7.26, 7.41, 7.52],\n",
    "                [17.65, 17.41, 17.16, 16.98, 16.81, 16.68, 16.54, 16.43, 16.36],\n",
    "                [19.26, 19.53, 19.78, 19.93, 20.11, 20.22, 20.41, 20.53, 20.64]]\n",
    "initial_data = np.array(initial_data).transpose()\n",
    "rows = np.arange(1,10)\n",
    "columns = ['dp', 'dl', 'dg', 'dd']\n",
    "\n",
    "df = pd.DataFrame(initial_data, index=rows, columns=columns)\n",
    "\n",
    "delta_d = 0.01\n",
    "light_len = 589.6"
   ]
  },
  {
   "cell_type": "code",
   "execution_count": 4,
   "metadata": {},
   "outputs": [
    {
     "data": {
      "text/html": [
       "<div>\n",
       "<style scoped>\n",
       "    .dataframe tbody tr th:only-of-type {\n",
       "        vertical-align: middle;\n",
       "    }\n",
       "\n",
       "    .dataframe tbody tr th {\n",
       "        vertical-align: top;\n",
       "    }\n",
       "\n",
       "    .dataframe thead th {\n",
       "        text-align: right;\n",
       "    }\n",
       "</style>\n",
       "<table border=\"1\" class=\"dataframe\">\n",
       "  <thead>\n",
       "    <tr style=\"text-align: right;\">\n",
       "      <th></th>\n",
       "      <th>dp</th>\n",
       "      <th>dl</th>\n",
       "      <th>dg</th>\n",
       "      <th>dd</th>\n",
       "    </tr>\n",
       "  </thead>\n",
       "  <tbody>\n",
       "    <tr>\n",
       "      <th>1</th>\n",
       "      <td>4.57</td>\n",
       "      <td>6.13</td>\n",
       "      <td>17.65</td>\n",
       "      <td>19.26</td>\n",
       "    </tr>\n",
       "    <tr>\n",
       "      <th>2</th>\n",
       "      <td>4.31</td>\n",
       "      <td>6.43</td>\n",
       "      <td>17.41</td>\n",
       "      <td>19.53</td>\n",
       "    </tr>\n",
       "    <tr>\n",
       "      <th>3</th>\n",
       "      <td>4.07</td>\n",
       "      <td>6.62</td>\n",
       "      <td>17.16</td>\n",
       "      <td>19.78</td>\n",
       "    </tr>\n",
       "    <tr>\n",
       "      <th>4</th>\n",
       "      <td>3.83</td>\n",
       "      <td>6.81</td>\n",
       "      <td>16.98</td>\n",
       "      <td>19.93</td>\n",
       "    </tr>\n",
       "    <tr>\n",
       "      <th>5</th>\n",
       "      <td>3.76</td>\n",
       "      <td>6.94</td>\n",
       "      <td>16.81</td>\n",
       "      <td>20.11</td>\n",
       "    </tr>\n",
       "    <tr>\n",
       "      <th>6</th>\n",
       "      <td>3.61</td>\n",
       "      <td>7.14</td>\n",
       "      <td>16.68</td>\n",
       "      <td>20.22</td>\n",
       "    </tr>\n",
       "    <tr>\n",
       "      <th>7</th>\n",
       "      <td>3.49</td>\n",
       "      <td>7.26</td>\n",
       "      <td>16.54</td>\n",
       "      <td>20.41</td>\n",
       "    </tr>\n",
       "    <tr>\n",
       "      <th>8</th>\n",
       "      <td>3.38</td>\n",
       "      <td>7.41</td>\n",
       "      <td>16.43</td>\n",
       "      <td>20.53</td>\n",
       "    </tr>\n",
       "    <tr>\n",
       "      <th>9</th>\n",
       "      <td>3.28</td>\n",
       "      <td>7.52</td>\n",
       "      <td>16.36</td>\n",
       "      <td>20.64</td>\n",
       "    </tr>\n",
       "  </tbody>\n",
       "</table>\n",
       "</div>"
      ],
      "text/plain": [
       "     dp    dl     dg     dd\n",
       "1  4.57  6.13  17.65  19.26\n",
       "2  4.31  6.43  17.41  19.53\n",
       "3  4.07  6.62  17.16  19.78\n",
       "4  3.83  6.81  16.98  19.93\n",
       "5  3.76  6.94  16.81  20.11\n",
       "6  3.61  7.14  16.68  20.22\n",
       "7  3.49  7.26  16.54  20.41\n",
       "8  3.38  7.41  16.43  20.53\n",
       "9  3.28  7.52  16.36  20.64"
      ]
     },
     "execution_count": 4,
     "metadata": {},
     "output_type": "execute_result"
    }
   ],
   "source": [
    "df"
   ]
  },
  {
   "cell_type": "markdown",
   "metadata": {},
   "source": [
    "# Obliczenia\n",
    "\n",
    "1. Obliczenie promieni poszczególnych prążków"
   ]
  },
  {
   "cell_type": "code",
   "execution_count": 5,
   "metadata": {},
   "outputs": [],
   "source": [
    "df2 = pd.DataFrame()"
   ]
  },
  {
   "cell_type": "code",
   "execution_count": 6,
   "metadata": {},
   "outputs": [
    {
     "data": {
      "text/html": [
       "<div>\n",
       "<style scoped>\n",
       "    .dataframe tbody tr th:only-of-type {\n",
       "        vertical-align: middle;\n",
       "    }\n",
       "\n",
       "    .dataframe tbody tr th {\n",
       "        vertical-align: top;\n",
       "    }\n",
       "\n",
       "    .dataframe thead th {\n",
       "        text-align: right;\n",
       "    }\n",
       "</style>\n",
       "<table border=\"1\" class=\"dataframe\">\n",
       "  <thead>\n",
       "    <tr style=\"text-align: right;\">\n",
       "      <th></th>\n",
       "    </tr>\n",
       "  </thead>\n",
       "  <tbody>\n",
       "  </tbody>\n",
       "</table>\n",
       "</div>"
      ],
      "text/plain": [
       "Empty DataFrame\n",
       "Columns: []\n",
       "Index: []"
      ]
     },
     "execution_count": 6,
     "metadata": {},
     "output_type": "execute_result"
    }
   ],
   "source": [
    "df2"
   ]
  },
  {
   "cell_type": "code",
   "execution_count": 7,
   "metadata": {},
   "outputs": [],
   "source": [
    "df2['rx'] = (df['dl']  - df['dp'])/ 2\n",
    "df2['ry'] = (df['dd']  - df['dg'])/ 2"
   ]
  },
  {
   "cell_type": "code",
   "execution_count": 8,
   "metadata": {},
   "outputs": [
    {
     "data": {
      "text/html": [
       "<div>\n",
       "<style scoped>\n",
       "    .dataframe tbody tr th:only-of-type {\n",
       "        vertical-align: middle;\n",
       "    }\n",
       "\n",
       "    .dataframe tbody tr th {\n",
       "        vertical-align: top;\n",
       "    }\n",
       "\n",
       "    .dataframe thead th {\n",
       "        text-align: right;\n",
       "    }\n",
       "</style>\n",
       "<table border=\"1\" class=\"dataframe\">\n",
       "  <thead>\n",
       "    <tr style=\"text-align: right;\">\n",
       "      <th></th>\n",
       "      <th>rx</th>\n",
       "      <th>ry</th>\n",
       "    </tr>\n",
       "  </thead>\n",
       "  <tbody>\n",
       "    <tr>\n",
       "      <th>1</th>\n",
       "      <td>0.780</td>\n",
       "      <td>0.805</td>\n",
       "    </tr>\n",
       "    <tr>\n",
       "      <th>2</th>\n",
       "      <td>1.060</td>\n",
       "      <td>1.060</td>\n",
       "    </tr>\n",
       "    <tr>\n",
       "      <th>3</th>\n",
       "      <td>1.275</td>\n",
       "      <td>1.310</td>\n",
       "    </tr>\n",
       "    <tr>\n",
       "      <th>4</th>\n",
       "      <td>1.490</td>\n",
       "      <td>1.475</td>\n",
       "    </tr>\n",
       "    <tr>\n",
       "      <th>5</th>\n",
       "      <td>1.590</td>\n",
       "      <td>1.650</td>\n",
       "    </tr>\n",
       "    <tr>\n",
       "      <th>6</th>\n",
       "      <td>1.765</td>\n",
       "      <td>1.770</td>\n",
       "    </tr>\n",
       "    <tr>\n",
       "      <th>7</th>\n",
       "      <td>1.885</td>\n",
       "      <td>1.935</td>\n",
       "    </tr>\n",
       "    <tr>\n",
       "      <th>8</th>\n",
       "      <td>2.015</td>\n",
       "      <td>2.050</td>\n",
       "    </tr>\n",
       "    <tr>\n",
       "      <th>9</th>\n",
       "      <td>2.120</td>\n",
       "      <td>2.140</td>\n",
       "    </tr>\n",
       "  </tbody>\n",
       "</table>\n",
       "</div>"
      ],
      "text/plain": [
       "      rx     ry\n",
       "1  0.780  0.805\n",
       "2  1.060  1.060\n",
       "3  1.275  1.310\n",
       "4  1.490  1.475\n",
       "5  1.590  1.650\n",
       "6  1.765  1.770\n",
       "7  1.885  1.935\n",
       "8  2.015  2.050\n",
       "9  2.120  2.140"
      ]
     },
     "execution_count": 8,
     "metadata": {},
     "output_type": "execute_result"
    }
   ],
   "source": [
    "df2"
   ]
  },
  {
   "cell_type": "markdown",
   "metadata": {},
   "source": [
    "2. Obliczenie średniego promienia prążków"
   ]
  },
  {
   "cell_type": "code",
   "execution_count": 9,
   "metadata": {},
   "outputs": [],
   "source": [
    "df2['r'] = (df2['rx'] + df2['ry']) / 2"
   ]
  },
  {
   "cell_type": "code",
   "execution_count": 10,
   "metadata": {},
   "outputs": [
    {
     "data": {
      "text/html": [
       "<div>\n",
       "<style scoped>\n",
       "    .dataframe tbody tr th:only-of-type {\n",
       "        vertical-align: middle;\n",
       "    }\n",
       "\n",
       "    .dataframe tbody tr th {\n",
       "        vertical-align: top;\n",
       "    }\n",
       "\n",
       "    .dataframe thead th {\n",
       "        text-align: right;\n",
       "    }\n",
       "</style>\n",
       "<table border=\"1\" class=\"dataframe\">\n",
       "  <thead>\n",
       "    <tr style=\"text-align: right;\">\n",
       "      <th></th>\n",
       "      <th>rx</th>\n",
       "      <th>ry</th>\n",
       "      <th>r</th>\n",
       "    </tr>\n",
       "  </thead>\n",
       "  <tbody>\n",
       "    <tr>\n",
       "      <th>1</th>\n",
       "      <td>0.780</td>\n",
       "      <td>0.805</td>\n",
       "      <td>0.7925</td>\n",
       "    </tr>\n",
       "    <tr>\n",
       "      <th>2</th>\n",
       "      <td>1.060</td>\n",
       "      <td>1.060</td>\n",
       "      <td>1.0600</td>\n",
       "    </tr>\n",
       "    <tr>\n",
       "      <th>3</th>\n",
       "      <td>1.275</td>\n",
       "      <td>1.310</td>\n",
       "      <td>1.2925</td>\n",
       "    </tr>\n",
       "    <tr>\n",
       "      <th>4</th>\n",
       "      <td>1.490</td>\n",
       "      <td>1.475</td>\n",
       "      <td>1.4825</td>\n",
       "    </tr>\n",
       "    <tr>\n",
       "      <th>5</th>\n",
       "      <td>1.590</td>\n",
       "      <td>1.650</td>\n",
       "      <td>1.6200</td>\n",
       "    </tr>\n",
       "    <tr>\n",
       "      <th>6</th>\n",
       "      <td>1.765</td>\n",
       "      <td>1.770</td>\n",
       "      <td>1.7675</td>\n",
       "    </tr>\n",
       "    <tr>\n",
       "      <th>7</th>\n",
       "      <td>1.885</td>\n",
       "      <td>1.935</td>\n",
       "      <td>1.9100</td>\n",
       "    </tr>\n",
       "    <tr>\n",
       "      <th>8</th>\n",
       "      <td>2.015</td>\n",
       "      <td>2.050</td>\n",
       "      <td>2.0325</td>\n",
       "    </tr>\n",
       "    <tr>\n",
       "      <th>9</th>\n",
       "      <td>2.120</td>\n",
       "      <td>2.140</td>\n",
       "      <td>2.1300</td>\n",
       "    </tr>\n",
       "  </tbody>\n",
       "</table>\n",
       "</div>"
      ],
      "text/plain": [
       "      rx     ry       r\n",
       "1  0.780  0.805  0.7925\n",
       "2  1.060  1.060  1.0600\n",
       "3  1.275  1.310  1.2925\n",
       "4  1.490  1.475  1.4825\n",
       "5  1.590  1.650  1.6200\n",
       "6  1.765  1.770  1.7675\n",
       "7  1.885  1.935  1.9100\n",
       "8  2.015  2.050  2.0325\n",
       "9  2.120  2.140  2.1300"
      ]
     },
     "execution_count": 10,
     "metadata": {},
     "output_type": "execute_result"
    }
   ],
   "source": [
    "df2"
   ]
  },
  {
   "cell_type": "markdown",
   "metadata": {},
   "source": [
    "2. Obliczenie kwadratów promieni prążków"
   ]
  },
  {
   "cell_type": "code",
   "execution_count": 11,
   "metadata": {},
   "outputs": [],
   "source": [
    "df2['r2'] = (df2['r'])**2"
   ]
  },
  {
   "cell_type": "code",
   "execution_count": 12,
   "metadata": {},
   "outputs": [
    {
     "data": {
      "text/html": [
       "<div>\n",
       "<style scoped>\n",
       "    .dataframe tbody tr th:only-of-type {\n",
       "        vertical-align: middle;\n",
       "    }\n",
       "\n",
       "    .dataframe tbody tr th {\n",
       "        vertical-align: top;\n",
       "    }\n",
       "\n",
       "    .dataframe thead th {\n",
       "        text-align: right;\n",
       "    }\n",
       "</style>\n",
       "<table border=\"1\" class=\"dataframe\">\n",
       "  <thead>\n",
       "    <tr style=\"text-align: right;\">\n",
       "      <th></th>\n",
       "      <th>rx</th>\n",
       "      <th>ry</th>\n",
       "      <th>r</th>\n",
       "      <th>r2</th>\n",
       "    </tr>\n",
       "  </thead>\n",
       "  <tbody>\n",
       "    <tr>\n",
       "      <th>1</th>\n",
       "      <td>0.780</td>\n",
       "      <td>0.805</td>\n",
       "      <td>0.7925</td>\n",
       "      <td>0.628056</td>\n",
       "    </tr>\n",
       "    <tr>\n",
       "      <th>2</th>\n",
       "      <td>1.060</td>\n",
       "      <td>1.060</td>\n",
       "      <td>1.0600</td>\n",
       "      <td>1.123600</td>\n",
       "    </tr>\n",
       "    <tr>\n",
       "      <th>3</th>\n",
       "      <td>1.275</td>\n",
       "      <td>1.310</td>\n",
       "      <td>1.2925</td>\n",
       "      <td>1.670556</td>\n",
       "    </tr>\n",
       "    <tr>\n",
       "      <th>4</th>\n",
       "      <td>1.490</td>\n",
       "      <td>1.475</td>\n",
       "      <td>1.4825</td>\n",
       "      <td>2.197806</td>\n",
       "    </tr>\n",
       "    <tr>\n",
       "      <th>5</th>\n",
       "      <td>1.590</td>\n",
       "      <td>1.650</td>\n",
       "      <td>1.6200</td>\n",
       "      <td>2.624400</td>\n",
       "    </tr>\n",
       "    <tr>\n",
       "      <th>6</th>\n",
       "      <td>1.765</td>\n",
       "      <td>1.770</td>\n",
       "      <td>1.7675</td>\n",
       "      <td>3.124056</td>\n",
       "    </tr>\n",
       "    <tr>\n",
       "      <th>7</th>\n",
       "      <td>1.885</td>\n",
       "      <td>1.935</td>\n",
       "      <td>1.9100</td>\n",
       "      <td>3.648100</td>\n",
       "    </tr>\n",
       "    <tr>\n",
       "      <th>8</th>\n",
       "      <td>2.015</td>\n",
       "      <td>2.050</td>\n",
       "      <td>2.0325</td>\n",
       "      <td>4.131056</td>\n",
       "    </tr>\n",
       "    <tr>\n",
       "      <th>9</th>\n",
       "      <td>2.120</td>\n",
       "      <td>2.140</td>\n",
       "      <td>2.1300</td>\n",
       "      <td>4.536900</td>\n",
       "    </tr>\n",
       "  </tbody>\n",
       "</table>\n",
       "</div>"
      ],
      "text/plain": [
       "      rx     ry       r        r2\n",
       "1  0.780  0.805  0.7925  0.628056\n",
       "2  1.060  1.060  1.0600  1.123600\n",
       "3  1.275  1.310  1.2925  1.670556\n",
       "4  1.490  1.475  1.4825  2.197806\n",
       "5  1.590  1.650  1.6200  2.624400\n",
       "6  1.765  1.770  1.7675  3.124056\n",
       "7  1.885  1.935  1.9100  3.648100\n",
       "8  2.015  2.050  2.0325  4.131056\n",
       "9  2.120  2.140  2.1300  4.536900"
      ]
     },
     "execution_count": 12,
     "metadata": {},
     "output_type": "execute_result"
    }
   ],
   "source": [
    "df2"
   ]
  },
  {
   "cell_type": "markdown",
   "metadata": {},
   "source": [
    "3. Tworzenie wykresu $r^2 = f(m - \\frac{1}{2})$"
   ]
  },
  {
   "cell_type": "code",
   "execution_count": 13,
   "metadata": {},
   "outputs": [],
   "source": [
    "df2['m - 0.5'] = np.arange(1, 10) - 0.5"
   ]
  },
  {
   "cell_type": "code",
   "execution_count": 14,
   "metadata": {},
   "outputs": [
    {
     "data": {
      "text/html": [
       "<div>\n",
       "<style scoped>\n",
       "    .dataframe tbody tr th:only-of-type {\n",
       "        vertical-align: middle;\n",
       "    }\n",
       "\n",
       "    .dataframe tbody tr th {\n",
       "        vertical-align: top;\n",
       "    }\n",
       "\n",
       "    .dataframe thead th {\n",
       "        text-align: right;\n",
       "    }\n",
       "</style>\n",
       "<table border=\"1\" class=\"dataframe\">\n",
       "  <thead>\n",
       "    <tr style=\"text-align: right;\">\n",
       "      <th></th>\n",
       "      <th>rx</th>\n",
       "      <th>ry</th>\n",
       "      <th>r</th>\n",
       "      <th>r2</th>\n",
       "      <th>m - 0.5</th>\n",
       "    </tr>\n",
       "  </thead>\n",
       "  <tbody>\n",
       "    <tr>\n",
       "      <th>1</th>\n",
       "      <td>0.780</td>\n",
       "      <td>0.805</td>\n",
       "      <td>0.7925</td>\n",
       "      <td>0.628056</td>\n",
       "      <td>0.5</td>\n",
       "    </tr>\n",
       "    <tr>\n",
       "      <th>2</th>\n",
       "      <td>1.060</td>\n",
       "      <td>1.060</td>\n",
       "      <td>1.0600</td>\n",
       "      <td>1.123600</td>\n",
       "      <td>1.5</td>\n",
       "    </tr>\n",
       "    <tr>\n",
       "      <th>3</th>\n",
       "      <td>1.275</td>\n",
       "      <td>1.310</td>\n",
       "      <td>1.2925</td>\n",
       "      <td>1.670556</td>\n",
       "      <td>2.5</td>\n",
       "    </tr>\n",
       "    <tr>\n",
       "      <th>4</th>\n",
       "      <td>1.490</td>\n",
       "      <td>1.475</td>\n",
       "      <td>1.4825</td>\n",
       "      <td>2.197806</td>\n",
       "      <td>3.5</td>\n",
       "    </tr>\n",
       "    <tr>\n",
       "      <th>5</th>\n",
       "      <td>1.590</td>\n",
       "      <td>1.650</td>\n",
       "      <td>1.6200</td>\n",
       "      <td>2.624400</td>\n",
       "      <td>4.5</td>\n",
       "    </tr>\n",
       "    <tr>\n",
       "      <th>6</th>\n",
       "      <td>1.765</td>\n",
       "      <td>1.770</td>\n",
       "      <td>1.7675</td>\n",
       "      <td>3.124056</td>\n",
       "      <td>5.5</td>\n",
       "    </tr>\n",
       "    <tr>\n",
       "      <th>7</th>\n",
       "      <td>1.885</td>\n",
       "      <td>1.935</td>\n",
       "      <td>1.9100</td>\n",
       "      <td>3.648100</td>\n",
       "      <td>6.5</td>\n",
       "    </tr>\n",
       "    <tr>\n",
       "      <th>8</th>\n",
       "      <td>2.015</td>\n",
       "      <td>2.050</td>\n",
       "      <td>2.0325</td>\n",
       "      <td>4.131056</td>\n",
       "      <td>7.5</td>\n",
       "    </tr>\n",
       "    <tr>\n",
       "      <th>9</th>\n",
       "      <td>2.120</td>\n",
       "      <td>2.140</td>\n",
       "      <td>2.1300</td>\n",
       "      <td>4.536900</td>\n",
       "      <td>8.5</td>\n",
       "    </tr>\n",
       "  </tbody>\n",
       "</table>\n",
       "</div>"
      ],
      "text/plain": [
       "      rx     ry       r        r2  m - 0.5\n",
       "1  0.780  0.805  0.7925  0.628056      0.5\n",
       "2  1.060  1.060  1.0600  1.123600      1.5\n",
       "3  1.275  1.310  1.2925  1.670556      2.5\n",
       "4  1.490  1.475  1.4825  2.197806      3.5\n",
       "5  1.590  1.650  1.6200  2.624400      4.5\n",
       "6  1.765  1.770  1.7675  3.124056      5.5\n",
       "7  1.885  1.935  1.9100  3.648100      6.5\n",
       "8  2.015  2.050  2.0325  4.131056      7.5\n",
       "9  2.120  2.140  2.1300  4.536900      8.5"
      ]
     },
     "execution_count": 14,
     "metadata": {},
     "output_type": "execute_result"
    }
   ],
   "source": [
    "df2"
   ]
  },
  {
   "cell_type": "code",
   "execution_count": 15,
   "metadata": {},
   "outputs": [
    {
     "data": {
      "image/png": "[encoded data removed]",
      "text/plain": [
       "<Figure size 576x576 with 1 Axes>"
      ]
     },
     "metadata": {},
     "output_type": "display_data"
    }
   ],
   "source": [
    "plot = sns.lmplot(x='m - 0.5', y='r2', data=df2, height=8)\n",
    "plot.set(xlabel=\"m - 0.5\", ylabel=\"r^2 [mm^2]\")\n",
    "plt.show()"
   ]
  },
  {
   "cell_type": "markdown",
   "metadata": {},
   "source": [
    "4. Obliczenie współczynnika nachylenia, punktu przecięcia i błędu standardowego"
   ]
  },
  {
   "cell_type": "code",
   "execution_count": 16,
   "metadata": {},
   "outputs": [],
   "source": [
    "x = df2['m - 0.5']\n",
    "y = df2['r2']\n",
    "slope, intercept, r_value, p_value, std_err = stats.linregress(x,y)"
   ]
  },
  {
   "cell_type": "code",
   "execution_count": 17,
   "metadata": {},
   "outputs": [],
   "source": [
    "values = [slope, intercept, std_err]\n",
    "rows = ['slope', 'intercept', 'std_err']\n",
    "columns = ['values']\n",
    "df3 = pd.DataFrame(data=values, columns=columns, index=rows)"
   ]
  },
  {
   "cell_type": "code",
   "execution_count": 18,
   "metadata": {},
   "outputs": [
    {
     "data": {
      "text/html": [
       "<div>\n",
       "<style scoped>\n",
       "    .dataframe tbody tr th:only-of-type {\n",
       "        vertical-align: middle;\n",
       "    }\n",
       "\n",
       "    .dataframe tbody tr th {\n",
       "        vertical-align: top;\n",
       "    }\n",
       "\n",
       "    .dataframe thead th {\n",
       "        text-align: right;\n",
       "    }\n",
       "</style>\n",
       "<table border=\"1\" class=\"dataframe\">\n",
       "  <thead>\n",
       "    <tr style=\"text-align: right;\">\n",
       "      <th></th>\n",
       "      <th>values</th>\n",
       "    </tr>\n",
       "  </thead>\n",
       "  <tbody>\n",
       "    <tr>\n",
       "      <th>slope</th>\n",
       "      <td>0.492318</td>\n",
       "    </tr>\n",
       "    <tr>\n",
       "      <th>intercept</th>\n",
       "      <td>0.416183</td>\n",
       "    </tr>\n",
       "    <tr>\n",
       "      <th>std_err</th>\n",
       "      <td>0.005297</td>\n",
       "    </tr>\n",
       "  </tbody>\n",
       "</table>\n",
       "</div>"
      ],
      "text/plain": [
       "             values\n",
       "slope      0.492318\n",
       "intercept  0.416183\n",
       "std_err    0.005297"
      ]
     },
     "execution_count": 18,
     "metadata": {},
     "output_type": "execute_result"
    }
   ],
   "source": [
    "df3"
   ]
  },
  {
   "cell_type": "markdown",
   "metadata": {},
   "source": [
    "5. Obliczenie promienia krzywizny soczewki"
   ]
  },
  {
   "cell_type": "code",
   "execution_count": 19,
   "metadata": {},
   "outputs": [],
   "source": [
    "curv_radius = slope * 100000 / light_len\n",
    "delta_curv_radius = curv_radius * (abs(std_err / slope) + abs(-1 * 0.1/light_len))\n",
    "df3.loc['curv_radius'] = curv_radius\n",
    "df3.loc['delta_curv_radius'] = delta_curv_radius"
   ]
  },
  {
   "cell_type": "code",
   "execution_count": 20,
   "metadata": {},
   "outputs": [
    {
     "data": {
      "text/html": [
       "<div>\n",
       "<style scoped>\n",
       "    .dataframe tbody tr th:only-of-type {\n",
       "        vertical-align: middle;\n",
       "    }\n",
       "\n",
       "    .dataframe tbody tr th {\n",
       "        vertical-align: top;\n",
       "    }\n",
       "\n",
       "    .dataframe thead th {\n",
       "        text-align: right;\n",
       "    }\n",
       "</style>\n",
       "<table border=\"1\" class=\"dataframe\">\n",
       "  <thead>\n",
       "    <tr style=\"text-align: right;\">\n",
       "      <th></th>\n",
       "      <th>values</th>\n",
       "    </tr>\n",
       "  </thead>\n",
       "  <tbody>\n",
       "    <tr>\n",
       "      <th>slope</th>\n",
       "      <td>0.492318</td>\n",
       "    </tr>\n",
       "    <tr>\n",
       "      <th>intercept</th>\n",
       "      <td>0.416183</td>\n",
       "    </tr>\n",
       "    <tr>\n",
       "      <th>std_err</th>\n",
       "      <td>0.005297</td>\n",
       "    </tr>\n",
       "    <tr>\n",
       "      <th>curv_radius</th>\n",
       "      <td>83.500343</td>\n",
       "    </tr>\n",
       "    <tr>\n",
       "      <th>delta_curv_radius</th>\n",
       "      <td>0.912628</td>\n",
       "    </tr>\n",
       "  </tbody>\n",
       "</table>\n",
       "</div>"
      ],
      "text/plain": [
       "                      values\n",
       "slope               0.492318\n",
       "intercept           0.416183\n",
       "std_err             0.005297\n",
       "curv_radius        83.500343\n",
       "delta_curv_radius   0.912628"
      ]
     },
     "execution_count": 20,
     "metadata": {},
     "output_type": "execute_result"
    }
   ],
   "source": [
    "df3"
   ]
  },
  {
   "cell_type": "code",
   "execution_count": 21,
   "metadata": {},
   "outputs": [
    {
     "name": "stdout",
     "output_type": "stream",
     "text": [
      "\\begin{tabular}{lrrrrr}\n",
      "\\toprule\n",
      "{} &     rx &     ry &       r &        r2 &  m - 0.5 \\\\\n",
      "\\midrule\n",
      "1 &  0.780 &  0.805 &  0.7925 &  0.628056 &      0.5 \\\\\n",
      "2 &  1.060 &  1.060 &  1.0600 &  1.123600 &      1.5 \\\\\n",
      "3 &  1.275 &  1.310 &  1.2925 &  1.670556 &      2.5 \\\\\n",
      "4 &  1.490 &  1.475 &  1.4825 &  2.197806 &      3.5 \\\\\n",
      "5 &  1.590 &  1.650 &  1.6200 &  2.624400 &      4.5 \\\\\n",
      "6 &  1.765 &  1.770 &  1.7675 &  3.124056 &      5.5 \\\\\n",
      "7 &  1.885 &  1.935 &  1.9100 &  3.648100 &      6.5 \\\\\n",
      "8 &  2.015 &  2.050 &  2.0325 &  4.131056 &      7.5 \\\\\n",
      "9 &  2.120 &  2.140 &  2.1300 &  4.536900 &      8.5 \\\\\n",
      "\\bottomrule\n",
      "\\end{tabular}\n",
      "\n"
     ]
    }
   ],
   "source": [
    "print(df2.to_latex())"
   ]
  }
 ],
 "metadata": {
  "interpreter": {
   "hash": "b82a2851a595ebe0f981fc823616d302de744e1d83f8b287a5797effae43b59f"
  },
  "kernelspec": {
   "display_name": "Python 3.8.10 64-bit ('physics-kruuyAeB-py3.8': poetry)",
   "language": "python",
   "name": "python3"
  },
  "language_info": {
   "codemirror_mode": {
    "name": "ipython",
    "version": 3
   },
   "file_extension": ".py",
   "mimetype": "text/x-python",
   "name": "python",
   "nbconvert_exporter": "python",
   "pygments_lexer": "ipython3",
   "version": "3.8.10"
  },
  "orig_nbformat": 4
 },
 "nbformat": 4,
 "nbformat_minor": 2
}
